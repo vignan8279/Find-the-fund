{
 "cells": [
  {
   "cell_type": "code",
   "execution_count": null,
   "metadata": {},
   "outputs": [],
   "source": [
    "import matplotlib.pyplot as plt\n",
    "import pandas as pd\n",
    "import numpy as np\n",
    "from sklearn.metrics import accuracy_score\n",
    "from sklearn.model_selection import train_test_split\n",
    "from sklearn.tree import DecisionTreeRegressor\n",
    "import seaborn as sns\n",
    "from sklearn.ensemble import RandomForestRegressor\n",
    "from sklearn.metrics import mean_absolute_error\n",
    "\n",
    "\n",
    "iowa_file_path = 'C:/Users/vigna/ML/Find the fund/train.csv'\n",
    "home_data=pd.read_csv(iowa_file_path,low_memory=False)\n",
    "home_data = home_data.loc[:, ~home_data.columns.str.contains('^Unnamed')]\n",
    "categoricals = home_data.select_dtypes(exclude=[np.number])\n",
    "home_data.op_status[home_data.op_status == 'operating'] = 0\n",
    "home_data.op_status[home_data.op_status == 'closed'] = 0\n",
    "home_data.op_status[home_data.op_status == 'acquired'] = 1\n",
    "home_data.op_status[home_data.op_status == 'ipo'] = 1\n",
    "\n",
    "\n",
    "test_file_path = 'C:/Users/vigna/ML/Find the fund/test.csv'\n",
    "test_data=pd.read_csv(test_file_path,low_memory=False)\n",
    "\n",
    "test_data.op_status[test_data.op_status == 'operating'] = 0\n",
    "test_data.op_status[test_data.op_status == 'closed'] = 0\n",
    "test_data.op_status[test_data.op_status == 'acquired'] = 1\n",
    "test_data.op_status[test_data.op_status == 'ipo'] = 1\n",
    "\n",
    "# test_X = test_data[home_features]\n",
    "\n",
    "y=home_data.successful_investment\n",
    "home_features=[ 'op_status']\n",
    "X=home_data[home_features]\n",
    "test_X = test_data[home_features]\n",
    "home_model=DecisionTreeRegressor(random_state=1)\n",
    "home_model.fit(X,y)\n",
    "predictions=home_model.predict(test_X)\n",
    "# \n",
    "\n",
    "print(predictions)\n",
    "# # acc_log = home_model.score(test_X,y)\n",
    "# acc_log\n",
    "\n",
    "\n",
    "\n",
    "\n",
    "# train_X, val_X, train_y, val_y = train_test_split(X, y, random_state=1)\n",
    "# home_model=DecisionTreeRegressor(random_state=1)\n",
    "# home_model.fit(train_X, train_y)\n",
    "# val_predictions = home_model.predict(val_X)\n",
    "# val_mae = mean_absolute_error(val_predictions, val_y)\n",
    "# print(\"Validation MAE when not specifying max_leaf_nodes: {:,.0f}\".format(val_mae))\n",
    "\n",
    "\n",
    "# test_file_path = 'C:/Users/vigna/ML/Find the fund/test.csv'\n",
    "# test_data=pd.read_csv(test_file_path,low_memory=False)\n",
    "\n",
    "# test_data.op_status[test_data.op_status == 'operating'] = 0\n",
    "# test_data.op_status[test_data.op_status == 'closed'] = 0\n",
    "# test_data.op_status[test_data.op_status == 'acquired'] = 1\n",
    "# test_data.op_status[test_data.op_status == 'ipo'] = 1\n",
    "\n",
    "# test_X = test_data[home_features]\n",
    "# test_model=DecisionTreeRegressor(random_state=1)\n",
    "# test_model.fit(test_X,y)\n",
    "# test_preds=test_model.predict(X.head())\n",
    "# output = pd.DataFrame({'ID': home_data.ID,'successful_investment':predictions})\n",
    "submission = pd.DataFrame({\"ID\": test_data[\"ID\"],\"successful_investment\": predictions})\n",
    "submission.to_csv('submission2.csv', index=False)"
   ]
  },
  {
   "cell_type": "code",
   "execution_count": null,
   "metadata": {},
   "outputs": [],
   "source": [
    "# test_data.op_status[test_data.op_status == 'operating'] = 0\n",
    "# test_data.op_status[test_data.op_status == 'closed'] = 0\n",
    "# test_data.op_status[test_data.op_status == 'acquired'] = 1\n",
    "# test_data.op_status[test_data.op_status == 'ipo'] = 1"
   ]
  },
  {
   "cell_type": "code",
   "execution_count": null,
   "metadata": {},
   "outputs": [],
   "source": [
    "home_data.isnull().sum()\n",
    "\n",
    "\n",
    "home_model=DecisionTreeRegressor(random_state=1)\n",
    "home_model.fit(X,y)\n",
    "predictions=home_model.predict(X.head())\n",
    "print(predictions)"
   ]
  },
  {
   "cell_type": "code",
   "execution_count": null,
   "metadata": {},
   "outputs": [],
   "source": [
    "test_data_path='C:/Users/vigna/ML/test.csv'\n",
    "test_data=pd.read_csv(test_data_path,low_memory=False)\n",
    "test_X=test_data[home_features]\n",
    "test_X.head()\n",
    "test_model=DecisionTreeRegressor(random_state=1)\n",
    "test_model.fit(test_X,y)\n",
    "print(test_model.predict(test_X.head()))"
   ]
  },
  {
   "cell_type": "code",
   "execution_count": null,
   "metadata": {},
   "outputs": [],
   "source": [
    "y=home_data.successful_investment\n",
    "home_features=[ 'funding_duration','first_funding_utc', 'last_funding_utc']\n",
    "X=home_data[home_features]\n",
    "X.head()\n",
    "home_model=DecisionTreeRegressor(random_state=1)\n",
    "home_model.fit(X,y)\n",
    "print(home_model.predict(X.head()))\n",
    "test_data_path='C:/Users/vigna/ML/test.csv'\n",
    "test_data=pd.read_csv(test_data_path,low_memory=False)\n",
    "test_X=test_data[home_features]\n",
    "test_X.head()\n",
    "test_model=DecisionTreeRegressor(random_state=1)\n",
    "test_model.fit(test_X,y)\n",
    "print(test_model.predict(test_X.head()))"
   ]
  },
  {
   "cell_type": "code",
   "execution_count": null,
   "metadata": {},
   "outputs": [],
   "source": [
    "y=home_data.successful_investment\n",
    "home_features=[ 'funding_duration','first_funding_utc', 'last_funding_utc']\n",
    "X=home_data[home_features]\n",
    "X.head()\n",
    "home_model=DecisionTreeRegressor(random_state=1)\n",
    "home_model.fit(X,y)\n",
    "print(home_model.predict(X.head()))\n",
    "test_data_path='C:/Users/vigna/ML/test.csv'\n",
    "test_data=pd.read_csv(test_data_path,low_memory=False)\n",
    "test_X=test_data[home_features]\n",
    "test_X.head()\n",
    "test_model=DecisionTreeRegressor(random_state=1)\n",
    "test_model.fit(test_X,y)\n",
    "print(test_model.predict(test_X.head()))"
   ]
  },
  {
   "cell_type": "code",
   "execution_count": null,
   "metadata": {},
   "outputs": [],
   "source": [
    "home_data.columns"
   ]
  },
  {
   "cell_type": "code",
   "execution_count": 15,
   "metadata": {
    "collapsed": true
   },
   "outputs": [
    {
     "ename": "AttributeError",
     "evalue": "'DataFrame' object has no attribute 'total'",
     "output_type": "error",
     "traceback": [
      "\u001b[1;31m---------------------------------------------------------------------------\u001b[0m",
      "\u001b[1;31mAttributeError\u001b[0m                            Traceback (most recent call last)",
      "\u001b[1;32m<ipython-input-15-b5f2049c9cce>\u001b[0m in \u001b[0;36m<module>\u001b[1;34m()\u001b[0m\n\u001b[1;32m----> 1\u001b[1;33m \u001b[0my\u001b[0m\u001b[1;33m=\u001b[0m\u001b[0mhome_data\u001b[0m\u001b[1;33m.\u001b[0m\u001b[0mtotal\u001b[0m\u001b[1;33m+\u001b[0m\u001b[0mAF8\u001b[0m\u001b[1;33m-\u001b[0m\u001b[0mamount\u001b[0m\u001b[1;33m\u001b[0m\u001b[0m\n\u001b[0m\u001b[0;32m      2\u001b[0m \u001b[0mhome_features\u001b[0m\u001b[1;33m=\u001b[0m\u001b[1;33m[\u001b[0m\u001b[1;34m'vendor+AF8-id'\u001b[0m\u001b[1;33m,\u001b[0m\u001b[1;34m'pickup+AF8-loc'\u001b[0m\u001b[1;33m,\u001b[0m\u001b[1;34m'drop+AF8-loc'\u001b[0m\u001b[1;33m,\u001b[0m\u001b[1;34m'driver+AF8-tip'\u001b[0m\u001b[1;33m,\u001b[0m\u001b[1;34m'mta+AF8-tax'\u001b[0m\u001b[1;33m,\u001b[0m\u001b[1;34m'distance'\u001b[0m\u001b[1;33m,\u001b[0m\u001b[1;34m'num+AF8-passengers'\u001b[0m\u001b[1;33m,\u001b[0m\u001b[1;34m'extra+AF8-charges'\u001b[0m\u001b[1;33m,\u001b[0m\u001b[1;34m'improvement+AF8-charge'\u001b[0m\u001b[1;33m]\u001b[0m\u001b[1;33m\u001b[0m\u001b[0m\n\u001b[0;32m      3\u001b[0m \u001b[0mX\u001b[0m\u001b[1;33m=\u001b[0m\u001b[0mhome_data\u001b[0m\u001b[1;33m[\u001b[0m\u001b[0mhome_features\u001b[0m\u001b[1;33m]\u001b[0m\u001b[1;33m\u001b[0m\u001b[0m\n\u001b[0;32m      4\u001b[0m \u001b[0mX\u001b[0m\u001b[1;33m.\u001b[0m\u001b[0mdescribe\u001b[0m\u001b[1;33m(\u001b[0m\u001b[1;33m)\u001b[0m\u001b[1;33m\u001b[0m\u001b[0m\n\u001b[0;32m      5\u001b[0m \u001b[1;33m\u001b[0m\u001b[0m\n",
      "\u001b[1;32m~\\Anaconda3\\lib\\site-packages\\pandas\\core\\generic.py\u001b[0m in \u001b[0;36m__getattr__\u001b[1;34m(self, name)\u001b[0m\n\u001b[0;32m   4370\u001b[0m             \u001b[1;32mif\u001b[0m \u001b[0mself\u001b[0m\u001b[1;33m.\u001b[0m\u001b[0m_info_axis\u001b[0m\u001b[1;33m.\u001b[0m\u001b[0m_can_hold_identifiers_and_holds_name\u001b[0m\u001b[1;33m(\u001b[0m\u001b[0mname\u001b[0m\u001b[1;33m)\u001b[0m\u001b[1;33m:\u001b[0m\u001b[1;33m\u001b[0m\u001b[0m\n\u001b[0;32m   4371\u001b[0m                 \u001b[1;32mreturn\u001b[0m \u001b[0mself\u001b[0m\u001b[1;33m[\u001b[0m\u001b[0mname\u001b[0m\u001b[1;33m]\u001b[0m\u001b[1;33m\u001b[0m\u001b[0m\n\u001b[1;32m-> 4372\u001b[1;33m             \u001b[1;32mreturn\u001b[0m \u001b[0mobject\u001b[0m\u001b[1;33m.\u001b[0m\u001b[0m__getattribute__\u001b[0m\u001b[1;33m(\u001b[0m\u001b[0mself\u001b[0m\u001b[1;33m,\u001b[0m \u001b[0mname\u001b[0m\u001b[1;33m)\u001b[0m\u001b[1;33m\u001b[0m\u001b[0m\n\u001b[0m\u001b[0;32m   4373\u001b[0m \u001b[1;33m\u001b[0m\u001b[0m\n\u001b[0;32m   4374\u001b[0m     \u001b[1;32mdef\u001b[0m \u001b[0m__setattr__\u001b[0m\u001b[1;33m(\u001b[0m\u001b[0mself\u001b[0m\u001b[1;33m,\u001b[0m \u001b[0mname\u001b[0m\u001b[1;33m,\u001b[0m \u001b[0mvalue\u001b[0m\u001b[1;33m)\u001b[0m\u001b[1;33m:\u001b[0m\u001b[1;33m\u001b[0m\u001b[0m\n",
      "\u001b[1;31mAttributeError\u001b[0m: 'DataFrame' object has no attribute 'total'"
     ]
    }
   ],
   "source": [
    "# y=home_data.total+AF8-amount\n",
    "# home_features=['vendor+AF8-id','pickup+AF8-loc','drop+AF8-loc','driver+AF8-tip','mta+AF8-tax','distance','num+AF8-passengers','extra+AF8-charges','improvement+AF8-charge']\n",
    "# X=home_data[home_features]\n",
    "# X.describe()\n",
    "\n",
    "# home_model=DecisionTreeRegressor(random_state=0)\n",
    "# home_model.fit(X,y)\n",
    "# print(home_model.predict(X.head()))"
   ]
  }
 ],
 "metadata": {
  "kernelspec": {
   "display_name": "Python 3",
   "language": "python",
   "name": "python3"
  },
  "language_info": {
   "codemirror_mode": {
    "name": "ipython",
    "version": 3
   },
   "file_extension": ".py",
   "mimetype": "text/x-python",
   "name": "python",
   "nbconvert_exporter": "python",
   "pygments_lexer": "ipython3",
   "version": "3.6.4"
  }
 },
 "nbformat": 4,
 "nbformat_minor": 2
}
