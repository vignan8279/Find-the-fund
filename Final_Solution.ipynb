{
 "cells": [
  {
   "cell_type": "code",
   "execution_count": null,
   "metadata": {},
   "outputs": [],
   "source": [
    "import matplotlib.pyplot as plt\n",
    "import pandas as pd\n",
    "import numpy as np\n",
    "from sklearn.metrics import accuracy_score\n",
    "from sklearn.model_selection import train_test_split\n",
    "from sklearn.tree import DecisionTreeClassifier\n",
    "import seaborn as sns\n",
    "from sklearn.metrics import mean_absolute_error\n",
    "\n",
    "\n",
    "\n",
    "\n",
    "\n",
    "iowa_file_path = 'C:/Users/vigna/ML/Find the fund/train.csv'\n",
    "home_data=pd.read_csv(iowa_file_path,low_memory=False)            #These commands read the train and test files.\n",
    "test_file_path = 'C:/Users/vigna/ML/Find the fund/test.csv'\n",
    "test_data=pd.read_csv(test_file_path,low_memory=False)\n",
    "\n",
    "\n",
    "home_data.info()\n",
    "home_data.columns          #we got unwanted columns such as unanmed23,etc,...\n",
    "home_data = home_data.loc[:, ~home_data.columns.str.contains('^Unnamed')]         #To not consider unnmaed columns\n",
    "home_data[home_data['op_status']=='operating'].head()    #By this we get to understand that for all the data which has op status as operating the investment must not be done.\n",
    "home_data[home_data['op_status']=='closed'].head()       #No successful investment\n",
    "home_data[home_data['op_status']=='acquired'].head()     #Successful investment is done\n",
    "home_data[home_data['op_status']=='ipo'].head()          #Successful investment is done\n",
    "\n",
    "\n",
    "home_data.op_status[home_data.op_status == 'operating'] = 0           #As in the train file the op_status data type is string it \n",
    "home_data.op_status[home_data.op_status == 'closed'] = 0              #would be better if we convert them into int dtype.\n",
    "home_data.op_status[home_data.op_status == 'acquired'] = 1          #These commands convert them to their respectively given integres\n",
    "home_data.op_status[home_data.op_status == 'ipo'] = 1\n",
    "\n",
    "\n",
    "test_data.op_status[test_data.op_status == 'operating'] = 0\n",
    "test_data.op_status[test_data.op_status == 'closed'] = 0            #The same above step is being done for the test file. \n",
    "test_data.op_status[test_data.op_status == 'acquired'] = 1\n",
    "test_data.op_status[test_data.op_status == 'ipo'] = 1\n",
    "\n",
    "\n",
    "y=home_data.successful_investment\n",
    "home_features=[ 'op_status']\n",
    "X=home_data[home_features]\n",
    "test_X = test_data[home_features]                    #In These commands we built our model and trained it and predictes the outputs. \n",
    "home_model=DecisionTreeClassifier(random_state=1)\n",
    "home_model.fit(X,y)\n",
    "predictions=home_model.predict(test_X)\n",
    "predictions = predictions.astype('int64')          #Here we are converting our predictions dtype from array to int64 as in the \n",
    "print(predictions)                                 #submission file we have them in dtype int64.\n",
    "\n",
    "\n",
    "submission = pd.DataFrame({\"ID\": test_data[\"ID\"],\"successful_investment\": predictions})\n",
    "submission.to_csv('submission_final.csv', index=False)   #Submission file is created.\n"
   ]
  },
  {
   "cell_type": "code",
   "execution_count": null,
   "metadata": {},
   "outputs": [],
   "source": [
    "\n",
    "train_X, val_X, train_y, val_y = train_test_split(X, y, random_state=1)\n",
    "home_model=DecisionTreeRegressor(random_state=1)\n",
    "home_model.fit(train_X, train_y)\n",
    "val_predictions = home_model.predict(val_X)                 #These commands are used to calculate the MEAN ABSOLUTE ERROR\n",
    "val_mae = mean_absolute_error(val_predictions, val_y)\n",
    "print(\"MAE : {:,.0f}\".format(val_mae))\n"
   ]
  }
 ],
 "metadata": {
  "kernelspec": {
   "display_name": "Python 3",
   "language": "python",
   "name": "python3"
  },
  "language_info": {
   "codemirror_mode": {
    "name": "ipython",
    "version": 3
   },
   "file_extension": ".py",
   "mimetype": "text/x-python",
   "name": "python",
   "nbconvert_exporter": "python",
   "pygments_lexer": "ipython3",
   "version": "3.6.4"
  }
 },
 "nbformat": 4,
 "nbformat_minor": 2
}
