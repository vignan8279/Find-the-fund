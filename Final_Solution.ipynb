{
 "cells": [
  {
   "cell_type": "markdown",
   "metadata": {},
   "source": [
    "## Importing "
   ]
  },
  {
   "cell_type": "code",
   "execution_count": 1,
   "metadata": {},
   "outputs": [],
   "source": [
    "import matplotlib.pyplot as plt\n",
    "import pandas as pd\n",
    "import numpy as np\n",
    "from sklearn.metrics import accuracy_score\n",
    "from sklearn.model_selection import train_test_split\n",
    "from sklearn.tree import DecisionTreeClassifier\n",
    "import seaborn as sns\n",
    "from sklearn.metrics import mean_absolute_error"
   ]
  },
  {
   "cell_type": "markdown",
   "metadata": {},
   "source": [
    "### Ignore warnings"
   ]
  },
  {
   "cell_type": "code",
   "execution_count": 2,
   "metadata": {},
   "outputs": [],
   "source": [
    "import warnings\n",
    "warnings.filterwarnings('ignore')"
   ]
  },
  {
   "cell_type": "markdown",
   "metadata": {},
   "source": [
    "## Reading the files"
   ]
  },
  {
   "cell_type": "code",
   "execution_count": 3,
   "metadata": {},
   "outputs": [],
   "source": [
    "file_path = 'train.csv'\n",
    "home_data=pd.read_csv(file_path,low_memory=False)            #These commands read the train and test files.\n",
    "test_file_path = 'test.csv'\n",
    "test_data=pd.read_csv(test_file_path,low_memory=False)"
   ]
  },
  {
   "cell_type": "code",
   "execution_count": 4,
   "metadata": {},
   "outputs": [
    {
     "data": {
      "text/plain": [
       "ID                       0\n",
       "comp_name                1\n",
       "website                284\n",
       "op_status                0\n",
       "domain                 213\n",
       "founded_on            1190\n",
       "hq_country_code        468\n",
       "hq_state_code          576\n",
       "hq_region              555\n",
       "hq_city                555\n",
       "total_funding_usd      850\n",
       "funding_rounds           0\n",
       "first_funding_date       0\n",
       "last_funding_date        0\n",
       "num_investors            0\n",
       "funding_duration         0\n",
       "first_funding_utc        0\n",
       "last_funding_utc         0\n",
       "dtype: int64"
      ]
     },
     "execution_count": 4,
     "metadata": {},
     "output_type": "execute_result"
    }
   ],
   "source": [
    "test_data.isna().sum()"
   ]
  },
  {
   "cell_type": "markdown",
   "metadata": {},
   "source": [
    "## Data Exploration"
   ]
  },
  {
   "cell_type": "code",
   "execution_count": 5,
   "metadata": {},
   "outputs": [
    {
     "name": "stdout",
     "output_type": "stream",
     "text": [
      "<class 'pandas.core.frame.DataFrame'>\n",
      "RangeIndex: 40213 entries, 0 to 40212\n",
      "Data columns (total 19 columns):\n",
      "ID                       40213 non-null int64\n",
      "comp_name                40213 non-null object\n",
      "website                  37746 non-null object\n",
      "op_status                40213 non-null object\n",
      "domain                   38007 non-null object\n",
      "founded_on               29999 non-null object\n",
      "hq_country_code          35699 non-null object\n",
      "hq_state_code            34623 non-null object\n",
      "hq_region                34965 non-null object\n",
      "hq_city                  34967 non-null object\n",
      "total_funding_usd        32548 non-null float64\n",
      "funding_rounds           40213 non-null int64\n",
      "first_funding_date       40213 non-null object\n",
      "last_funding_date        40213 non-null object\n",
      "num_investors            40213 non-null int64\n",
      "funding_duration         40213 non-null int64\n",
      "first_funding_utc        40213 non-null int64\n",
      "last_funding_utc         40213 non-null int64\n",
      "successful_investment    40213 non-null int64\n",
      "dtypes: float64(1), int64(7), object(11)\n",
      "memory usage: 5.8+ MB\n"
     ]
    }
   ],
   "source": [
    "home_data.info()"
   ]
  },
  {
   "cell_type": "code",
   "execution_count": 6,
   "metadata": {},
   "outputs": [
    {
     "data": {
      "text/plain": [
       "ID                           0\n",
       "comp_name                    0\n",
       "website                   2467\n",
       "op_status                    0\n",
       "domain                    2206\n",
       "founded_on               10214\n",
       "hq_country_code           4514\n",
       "hq_state_code             5590\n",
       "hq_region                 5248\n",
       "hq_city                   5246\n",
       "total_funding_usd         7665\n",
       "funding_rounds               0\n",
       "first_funding_date           0\n",
       "last_funding_date            0\n",
       "num_investors                0\n",
       "funding_duration             0\n",
       "first_funding_utc            0\n",
       "last_funding_utc             0\n",
       "successful_investment        0\n",
       "dtype: int64"
      ]
     },
     "execution_count": 6,
     "metadata": {},
     "output_type": "execute_result"
    }
   ],
   "source": [
    "home_data.isna().sum()"
   ]
  },
  {
   "cell_type": "code",
   "execution_count": 7,
   "metadata": {},
   "outputs": [
    {
     "data": {
      "text/plain": [
       "Index(['ID', 'comp_name', 'website', 'op_status', 'domain', 'founded_on',\n",
       "       'hq_country_code', 'hq_state_code', 'hq_region', 'hq_city',\n",
       "       'total_funding_usd', 'funding_rounds', 'first_funding_date',\n",
       "       'last_funding_date', 'num_investors', 'funding_duration',\n",
       "       'first_funding_utc', 'last_funding_utc', 'successful_investment'],\n",
       "      dtype='object')"
      ]
     },
     "execution_count": 7,
     "metadata": {},
     "output_type": "execute_result"
    }
   ],
   "source": [
    "home_data.columns   "
   ]
  },
  {
   "cell_type": "code",
   "execution_count": 8,
   "metadata": {},
   "outputs": [
    {
     "data": {
      "text/plain": [
       "ID                         int64\n",
       "comp_name                 object\n",
       "website                   object\n",
       "op_status                 object\n",
       "domain                    object\n",
       "founded_on                object\n",
       "hq_country_code           object\n",
       "hq_state_code             object\n",
       "hq_region                 object\n",
       "hq_city                   object\n",
       "total_funding_usd        float64\n",
       "funding_rounds             int64\n",
       "first_funding_date        object\n",
       "last_funding_date         object\n",
       "num_investors              int64\n",
       "funding_duration           int64\n",
       "first_funding_utc          int64\n",
       "last_funding_utc           int64\n",
       "successful_investment      int64\n",
       "dtype: object"
      ]
     },
     "execution_count": 8,
     "metadata": {},
     "output_type": "execute_result"
    }
   ],
   "source": [
    "home_data.dtypes"
   ]
  },
  {
   "cell_type": "code",
   "execution_count": 9,
   "metadata": {},
   "outputs": [
    {
     "data": {
      "text/html": [
       "<div>\n",
       "<style scoped>\n",
       "    .dataframe tbody tr th:only-of-type {\n",
       "        vertical-align: middle;\n",
       "    }\n",
       "\n",
       "    .dataframe tbody tr th {\n",
       "        vertical-align: top;\n",
       "    }\n",
       "\n",
       "    .dataframe thead th {\n",
       "        text-align: right;\n",
       "    }\n",
       "</style>\n",
       "<table border=\"1\" class=\"dataframe\">\n",
       "  <thead>\n",
       "    <tr style=\"text-align: right;\">\n",
       "      <th></th>\n",
       "      <th>ID</th>\n",
       "      <th>comp_name</th>\n",
       "      <th>website</th>\n",
       "      <th>op_status</th>\n",
       "      <th>domain</th>\n",
       "      <th>founded_on</th>\n",
       "      <th>hq_country_code</th>\n",
       "      <th>hq_state_code</th>\n",
       "      <th>hq_region</th>\n",
       "      <th>hq_city</th>\n",
       "      <th>total_funding_usd</th>\n",
       "      <th>funding_rounds</th>\n",
       "      <th>first_funding_date</th>\n",
       "      <th>last_funding_date</th>\n",
       "      <th>num_investors</th>\n",
       "      <th>funding_duration</th>\n",
       "      <th>first_funding_utc</th>\n",
       "      <th>last_funding_utc</th>\n",
       "      <th>successful_investment</th>\n",
       "    </tr>\n",
       "  </thead>\n",
       "  <tbody>\n",
       "    <tr>\n",
       "      <td>0</td>\n",
       "      <td>0</td>\n",
       "      <td>Nanotecture</td>\n",
       "      <td>http://www.nanotecture.co.uk</td>\n",
       "      <td>closed</td>\n",
       "      <td>Nanotechnology</td>\n",
       "      <td>NaN</td>\n",
       "      <td>GBR</td>\n",
       "      <td>M4</td>\n",
       "      <td>London</td>\n",
       "      <td>Southampton</td>\n",
       "      <td>6820000.0</td>\n",
       "      <td>1</td>\n",
       "      <td>04-05-2005</td>\n",
       "      <td>04-05-2005</td>\n",
       "      <td>4</td>\n",
       "      <td>0</td>\n",
       "      <td>12907</td>\n",
       "      <td>12907</td>\n",
       "      <td>0</td>\n",
       "    </tr>\n",
       "    <tr>\n",
       "      <td>1</td>\n",
       "      <td>1</td>\n",
       "      <td>Sybari</td>\n",
       "      <td>http://www.sybari.com</td>\n",
       "      <td>acquired</td>\n",
       "      <td>Email|Security|Software</td>\n",
       "      <td>01-01-1995</td>\n",
       "      <td>USA</td>\n",
       "      <td>NY</td>\n",
       "      <td>Long Island</td>\n",
       "      <td>East Northport</td>\n",
       "      <td>NaN</td>\n",
       "      <td>1</td>\n",
       "      <td>30-03-2001</td>\n",
       "      <td>30-03-2001</td>\n",
       "      <td>1</td>\n",
       "      <td>0</td>\n",
       "      <td>11411</td>\n",
       "      <td>11411</td>\n",
       "      <td>1</td>\n",
       "    </tr>\n",
       "    <tr>\n",
       "      <td>2</td>\n",
       "      <td>2</td>\n",
       "      <td>Futurederm</td>\n",
       "      <td>http://www.futurederm.com</td>\n",
       "      <td>operating</td>\n",
       "      <td>Beauty|Cosmetics|E-Commerce|Social Media</td>\n",
       "      <td>07-06-2009</td>\n",
       "      <td>USA</td>\n",
       "      <td>PA</td>\n",
       "      <td>Pittsburgh</td>\n",
       "      <td>Pittsburgh</td>\n",
       "      <td>165778.0</td>\n",
       "      <td>5</td>\n",
       "      <td>25-10-2012</td>\n",
       "      <td>27-05-2014</td>\n",
       "      <td>4</td>\n",
       "      <td>579</td>\n",
       "      <td>15638</td>\n",
       "      <td>16217</td>\n",
       "      <td>0</td>\n",
       "    </tr>\n",
       "    <tr>\n",
       "      <td>3</td>\n",
       "      <td>3</td>\n",
       "      <td>Mercora</td>\n",
       "      <td>http://mercora.com</td>\n",
       "      <td>closed</td>\n",
       "      <td>Curated Web</td>\n",
       "      <td>NaN</td>\n",
       "      <td>USA</td>\n",
       "      <td>CA</td>\n",
       "      <td>SF Bay Area</td>\n",
       "      <td>Sunnyvale</td>\n",
       "      <td>5000000.0</td>\n",
       "      <td>1</td>\n",
       "      <td>01-01-2005</td>\n",
       "      <td>01-01-2005</td>\n",
       "      <td>1</td>\n",
       "      <td>0</td>\n",
       "      <td>12784</td>\n",
       "      <td>12784</td>\n",
       "      <td>0</td>\n",
       "    </tr>\n",
       "    <tr>\n",
       "      <td>4</td>\n",
       "      <td>4</td>\n",
       "      <td>Datos IO</td>\n",
       "      <td>http://www.datos.io</td>\n",
       "      <td>operating</td>\n",
       "      <td>Big Data|Cloud Computing|Databases|Enterprise ...</td>\n",
       "      <td>01-06-2014</td>\n",
       "      <td>USA</td>\n",
       "      <td>CA</td>\n",
       "      <td>SF Bay Area</td>\n",
       "      <td>San Jose</td>\n",
       "      <td>15250000.0</td>\n",
       "      <td>2</td>\n",
       "      <td>01-07-2014</td>\n",
       "      <td>15-09-2015</td>\n",
       "      <td>4</td>\n",
       "      <td>441</td>\n",
       "      <td>16252</td>\n",
       "      <td>16693</td>\n",
       "      <td>0</td>\n",
       "    </tr>\n",
       "  </tbody>\n",
       "</table>\n",
       "</div>"
      ],
      "text/plain": [
       "   ID    comp_name                       website  op_status  \\\n",
       "0   0  Nanotecture  http://www.nanotecture.co.uk     closed   \n",
       "1   1       Sybari         http://www.sybari.com   acquired   \n",
       "2   2   Futurederm     http://www.futurederm.com  operating   \n",
       "3   3      Mercora            http://mercora.com     closed   \n",
       "4   4     Datos IO           http://www.datos.io  operating   \n",
       "\n",
       "                                              domain  founded_on  \\\n",
       "0                                     Nanotechnology         NaN   \n",
       "1                            Email|Security|Software  01-01-1995   \n",
       "2           Beauty|Cosmetics|E-Commerce|Social Media  07-06-2009   \n",
       "3                                        Curated Web         NaN   \n",
       "4  Big Data|Cloud Computing|Databases|Enterprise ...  01-06-2014   \n",
       "\n",
       "  hq_country_code hq_state_code    hq_region         hq_city  \\\n",
       "0             GBR            M4       London     Southampton   \n",
       "1             USA            NY  Long Island  East Northport   \n",
       "2             USA            PA   Pittsburgh      Pittsburgh   \n",
       "3             USA            CA  SF Bay Area       Sunnyvale   \n",
       "4             USA            CA  SF Bay Area        San Jose   \n",
       "\n",
       "   total_funding_usd  funding_rounds first_funding_date last_funding_date  \\\n",
       "0          6820000.0               1         04-05-2005        04-05-2005   \n",
       "1                NaN               1         30-03-2001        30-03-2001   \n",
       "2           165778.0               5         25-10-2012        27-05-2014   \n",
       "3          5000000.0               1         01-01-2005        01-01-2005   \n",
       "4         15250000.0               2         01-07-2014        15-09-2015   \n",
       "\n",
       "   num_investors  funding_duration  first_funding_utc  last_funding_utc  \\\n",
       "0              4                 0              12907             12907   \n",
       "1              1                 0              11411             11411   \n",
       "2              4               579              15638             16217   \n",
       "3              1                 0              12784             12784   \n",
       "4              4               441              16252             16693   \n",
       "\n",
       "   successful_investment  \n",
       "0                      0  \n",
       "1                      1  \n",
       "2                      0  \n",
       "3                      0  \n",
       "4                      0  "
      ]
     },
     "execution_count": 9,
     "metadata": {},
     "output_type": "execute_result"
    }
   ],
   "source": [
    "home_data.head()"
   ]
  },
  {
   "cell_type": "markdown",
   "metadata": {},
   "source": [
    "## Data Cleaning"
   ]
  },
  {
   "cell_type": "code",
   "execution_count": 10,
   "metadata": {},
   "outputs": [],
   "source": [
    "home_data = home_data.loc[:, ~home_data.columns.str.contains('^Unnamed')]"
   ]
  },
  {
   "cell_type": "markdown",
   "metadata": {},
   "source": [
    "##### By this we get to understand that for all the data which has op status as operating the investment must not be done."
   ]
  },
  {
   "cell_type": "code",
   "execution_count": 11,
   "metadata": {},
   "outputs": [
    {
     "data": {
      "text/plain": [
       "<matplotlib.axes._subplots.AxesSubplot at 0x7fb56c5ec320>"
      ]
     },
     "execution_count": 11,
     "metadata": {},
     "output_type": "execute_result"
    },
    {
     "data": {
      "image/png": "[encoded data removed]",
      "text/plain": [
       "<Figure size 432x288 with 1 Axes>"
      ]
     },
     "metadata": {},
     "output_type": "display_data"
    }
   ],
   "source": [
    "home_data['op_status'].value_counts().plot.bar()"
   ]
  },
  {
   "cell_type": "code",
   "execution_count": 12,
   "metadata": {},
   "outputs": [
    {
     "data": {
      "text/plain": [
       "<matplotlib.axes._subplots.AxesSubplot at 0x7fb56d3266a0>"
      ]
     },
     "execution_count": 12,
     "metadata": {},
     "output_type": "execute_result"
    },
    {
     "data": {
      "image/png": "[encoded data removed]",
      "text/plain": [
       "<Figure size 720x720 with 1 Axes>"
      ]
     },
     "metadata": {},
     "output_type": "display_data"
    }
   ],
   "source": [
    "status=pd.crosstab(home_data['op_status'],home_data['successful_investment']) \n",
    "status.div(status.sum(1).astype(float), axis=0).plot(kind=\"bar\", stacked=True, figsize=(10,10))"
   ]
  },
  {
   "cell_type": "code",
   "execution_count": 13,
   "metadata": {},
   "outputs": [
    {
     "data": {
      "text/html": [
       "<div>\n",
       "<style scoped>\n",
       "    .dataframe tbody tr th:only-of-type {\n",
       "        vertical-align: middle;\n",
       "    }\n",
       "\n",
       "    .dataframe tbody tr th {\n",
       "        vertical-align: top;\n",
       "    }\n",
       "\n",
       "    .dataframe thead th {\n",
       "        text-align: right;\n",
       "    }\n",
       "</style>\n",
       "<table border=\"1\" class=\"dataframe\">\n",
       "  <thead>\n",
       "    <tr style=\"text-align: right;\">\n",
       "      <th></th>\n",
       "      <th>ID</th>\n",
       "      <th>comp_name</th>\n",
       "      <th>website</th>\n",
       "      <th>op_status</th>\n",
       "      <th>domain</th>\n",
       "      <th>founded_on</th>\n",
       "      <th>hq_country_code</th>\n",
       "      <th>hq_state_code</th>\n",
       "      <th>hq_region</th>\n",
       "      <th>hq_city</th>\n",
       "      <th>total_funding_usd</th>\n",
       "      <th>funding_rounds</th>\n",
       "      <th>first_funding_date</th>\n",
       "      <th>last_funding_date</th>\n",
       "      <th>num_investors</th>\n",
       "      <th>funding_duration</th>\n",
       "      <th>first_funding_utc</th>\n",
       "      <th>last_funding_utc</th>\n",
       "      <th>successful_investment</th>\n",
       "    </tr>\n",
       "  </thead>\n",
       "  <tbody>\n",
       "    <tr>\n",
       "      <td>2</td>\n",
       "      <td>2</td>\n",
       "      <td>Futurederm</td>\n",
       "      <td>http://www.futurederm.com</td>\n",
       "      <td>operating</td>\n",
       "      <td>Beauty|Cosmetics|E-Commerce|Social Media</td>\n",
       "      <td>07-06-2009</td>\n",
       "      <td>USA</td>\n",
       "      <td>PA</td>\n",
       "      <td>Pittsburgh</td>\n",
       "      <td>Pittsburgh</td>\n",
       "      <td>165778.0</td>\n",
       "      <td>5</td>\n",
       "      <td>25-10-2012</td>\n",
       "      <td>27-05-2014</td>\n",
       "      <td>4</td>\n",
       "      <td>579</td>\n",
       "      <td>15638</td>\n",
       "      <td>16217</td>\n",
       "      <td>0</td>\n",
       "    </tr>\n",
       "    <tr>\n",
       "      <td>4</td>\n",
       "      <td>4</td>\n",
       "      <td>Datos IO</td>\n",
       "      <td>http://www.datos.io</td>\n",
       "      <td>operating</td>\n",
       "      <td>Big Data|Cloud Computing|Databases|Enterprise ...</td>\n",
       "      <td>01-06-2014</td>\n",
       "      <td>USA</td>\n",
       "      <td>CA</td>\n",
       "      <td>SF Bay Area</td>\n",
       "      <td>San Jose</td>\n",
       "      <td>15250000.0</td>\n",
       "      <td>2</td>\n",
       "      <td>01-07-2014</td>\n",
       "      <td>15-09-2015</td>\n",
       "      <td>4</td>\n",
       "      <td>441</td>\n",
       "      <td>16252</td>\n",
       "      <td>16693</td>\n",
       "      <td>0</td>\n",
       "    </tr>\n",
       "    <tr>\n",
       "      <td>6</td>\n",
       "      <td>6</td>\n",
       "      <td>Telemedi.co</td>\n",
       "      <td>http://telemedi.co/en</td>\n",
       "      <td>operating</td>\n",
       "      <td>Bridging Online and Offline|Doctors|Telecommun...</td>\n",
       "      <td>NaN</td>\n",
       "      <td>GBR</td>\n",
       "      <td>L3</td>\n",
       "      <td>Rotherham</td>\n",
       "      <td>Rotherham</td>\n",
       "      <td>132222.0</td>\n",
       "      <td>2</td>\n",
       "      <td>23-04-2014</td>\n",
       "      <td>01-08-2014</td>\n",
       "      <td>2</td>\n",
       "      <td>100</td>\n",
       "      <td>16183</td>\n",
       "      <td>16283</td>\n",
       "      <td>0</td>\n",
       "    </tr>\n",
       "    <tr>\n",
       "      <td>8</td>\n",
       "      <td>8</td>\n",
       "      <td>Comviva</td>\n",
       "      <td>http://www.comviva.com</td>\n",
       "      <td>operating</td>\n",
       "      <td>Mobile</td>\n",
       "      <td>NaN</td>\n",
       "      <td>USA</td>\n",
       "      <td>IN</td>\n",
       "      <td>NaN</td>\n",
       "      <td>NaN</td>\n",
       "      <td>13500000.0</td>\n",
       "      <td>1</td>\n",
       "      <td>04-12-2005</td>\n",
       "      <td>04-12-2005</td>\n",
       "      <td>3</td>\n",
       "      <td>0</td>\n",
       "      <td>13121</td>\n",
       "      <td>13121</td>\n",
       "      <td>0</td>\n",
       "    </tr>\n",
       "    <tr>\n",
       "      <td>9</td>\n",
       "      <td>9</td>\n",
       "      <td>BinaryVR</td>\n",
       "      <td>http://www.binaryvr.com/</td>\n",
       "      <td>operating</td>\n",
       "      <td>Technology</td>\n",
       "      <td>NaN</td>\n",
       "      <td>USA</td>\n",
       "      <td>CA</td>\n",
       "      <td>SF Bay Area</td>\n",
       "      <td>San Jose</td>\n",
       "      <td>400000.0</td>\n",
       "      <td>1</td>\n",
       "      <td>22-09-2015</td>\n",
       "      <td>22-09-2015</td>\n",
       "      <td>1</td>\n",
       "      <td>0</td>\n",
       "      <td>16700</td>\n",
       "      <td>16700</td>\n",
       "      <td>0</td>\n",
       "    </tr>\n",
       "  </tbody>\n",
       "</table>\n",
       "</div>"
      ],
      "text/plain": [
       "   ID    comp_name                    website  op_status  \\\n",
       "2   2   Futurederm  http://www.futurederm.com  operating   \n",
       "4   4     Datos IO        http://www.datos.io  operating   \n",
       "6   6  Telemedi.co      http://telemedi.co/en  operating   \n",
       "8   8      Comviva     http://www.comviva.com  operating   \n",
       "9   9     BinaryVR   http://www.binaryvr.com/  operating   \n",
       "\n",
       "                                              domain  founded_on  \\\n",
       "2           Beauty|Cosmetics|E-Commerce|Social Media  07-06-2009   \n",
       "4  Big Data|Cloud Computing|Databases|Enterprise ...  01-06-2014   \n",
       "6  Bridging Online and Offline|Doctors|Telecommun...         NaN   \n",
       "8                                             Mobile         NaN   \n",
       "9                                         Technology         NaN   \n",
       "\n",
       "  hq_country_code hq_state_code    hq_region     hq_city  total_funding_usd  \\\n",
       "2             USA            PA   Pittsburgh  Pittsburgh           165778.0   \n",
       "4             USA            CA  SF Bay Area    San Jose         15250000.0   \n",
       "6             GBR            L3    Rotherham   Rotherham           132222.0   \n",
       "8             USA            IN          NaN         NaN         13500000.0   \n",
       "9             USA            CA  SF Bay Area    San Jose           400000.0   \n",
       "\n",
       "   funding_rounds first_funding_date last_funding_date  num_investors  \\\n",
       "2               5         25-10-2012        27-05-2014              4   \n",
       "4               2         01-07-2014        15-09-2015              4   \n",
       "6               2         23-04-2014        01-08-2014              2   \n",
       "8               1         04-12-2005        04-12-2005              3   \n",
       "9               1         22-09-2015        22-09-2015              1   \n",
       "\n",
       "   funding_duration  first_funding_utc  last_funding_utc  \\\n",
       "2               579              15638             16217   \n",
       "4               441              16252             16693   \n",
       "6               100              16183             16283   \n",
       "8                 0              13121             13121   \n",
       "9                 0              16700             16700   \n",
       "\n",
       "   successful_investment  \n",
       "2                      0  \n",
       "4                      0  \n",
       "6                      0  \n",
       "8                      0  \n",
       "9                      0  "
      ]
     },
     "execution_count": 13,
     "metadata": {},
     "output_type": "execute_result"
    }
   ],
   "source": [
    "home_data[home_data['op_status']=='operating'].head()    "
   ]
  },
  {
   "cell_type": "code",
   "execution_count": 14,
   "metadata": {},
   "outputs": [
    {
     "data": {
      "text/html": [
       "<div>\n",
       "<style scoped>\n",
       "    .dataframe tbody tr th:only-of-type {\n",
       "        vertical-align: middle;\n",
       "    }\n",
       "\n",
       "    .dataframe tbody tr th {\n",
       "        vertical-align: top;\n",
       "    }\n",
       "\n",
       "    .dataframe thead th {\n",
       "        text-align: right;\n",
       "    }\n",
       "</style>\n",
       "<table border=\"1\" class=\"dataframe\">\n",
       "  <thead>\n",
       "    <tr style=\"text-align: right;\">\n",
       "      <th></th>\n",
       "      <th>ID</th>\n",
       "      <th>comp_name</th>\n",
       "      <th>website</th>\n",
       "      <th>op_status</th>\n",
       "      <th>domain</th>\n",
       "      <th>founded_on</th>\n",
       "      <th>hq_country_code</th>\n",
       "      <th>hq_state_code</th>\n",
       "      <th>hq_region</th>\n",
       "      <th>hq_city</th>\n",
       "      <th>total_funding_usd</th>\n",
       "      <th>funding_rounds</th>\n",
       "      <th>first_funding_date</th>\n",
       "      <th>last_funding_date</th>\n",
       "      <th>num_investors</th>\n",
       "      <th>funding_duration</th>\n",
       "      <th>first_funding_utc</th>\n",
       "      <th>last_funding_utc</th>\n",
       "      <th>successful_investment</th>\n",
       "    </tr>\n",
       "  </thead>\n",
       "  <tbody>\n",
       "    <tr>\n",
       "      <td>0</td>\n",
       "      <td>0</td>\n",
       "      <td>Nanotecture</td>\n",
       "      <td>http://www.nanotecture.co.uk</td>\n",
       "      <td>closed</td>\n",
       "      <td>Nanotechnology</td>\n",
       "      <td>NaN</td>\n",
       "      <td>GBR</td>\n",
       "      <td>M4</td>\n",
       "      <td>London</td>\n",
       "      <td>Southampton</td>\n",
       "      <td>6820000.0</td>\n",
       "      <td>1</td>\n",
       "      <td>04-05-2005</td>\n",
       "      <td>04-05-2005</td>\n",
       "      <td>4</td>\n",
       "      <td>0</td>\n",
       "      <td>12907</td>\n",
       "      <td>12907</td>\n",
       "      <td>0</td>\n",
       "    </tr>\n",
       "    <tr>\n",
       "      <td>3</td>\n",
       "      <td>3</td>\n",
       "      <td>Mercora</td>\n",
       "      <td>http://mercora.com</td>\n",
       "      <td>closed</td>\n",
       "      <td>Curated Web</td>\n",
       "      <td>NaN</td>\n",
       "      <td>USA</td>\n",
       "      <td>CA</td>\n",
       "      <td>SF Bay Area</td>\n",
       "      <td>Sunnyvale</td>\n",
       "      <td>5000000.0</td>\n",
       "      <td>1</td>\n",
       "      <td>01-01-2005</td>\n",
       "      <td>01-01-2005</td>\n",
       "      <td>1</td>\n",
       "      <td>0</td>\n",
       "      <td>12784</td>\n",
       "      <td>12784</td>\n",
       "      <td>0</td>\n",
       "    </tr>\n",
       "    <tr>\n",
       "      <td>7</td>\n",
       "      <td>7</td>\n",
       "      <td>Taggstr</td>\n",
       "      <td>http://www.taggstr.com</td>\n",
       "      <td>closed</td>\n",
       "      <td>iPhone|Location Based Services|Messaging|Mobil...</td>\n",
       "      <td>01-07-2009</td>\n",
       "      <td>USA</td>\n",
       "      <td>CA</td>\n",
       "      <td>SF Bay Area</td>\n",
       "      <td>San Jose</td>\n",
       "      <td>50000.0</td>\n",
       "      <td>1</td>\n",
       "      <td>07-04-2010</td>\n",
       "      <td>07-04-2010</td>\n",
       "      <td>1</td>\n",
       "      <td>0</td>\n",
       "      <td>14706</td>\n",
       "      <td>14706</td>\n",
       "      <td>0</td>\n",
       "    </tr>\n",
       "    <tr>\n",
       "      <td>16</td>\n",
       "      <td>16</td>\n",
       "      <td>The Daily Hundred</td>\n",
       "      <td>http://dailyhundred.com</td>\n",
       "      <td>closed</td>\n",
       "      <td>Advertising|Gamification|Mobile|Photography|Sa...</td>\n",
       "      <td>01-04-2012</td>\n",
       "      <td>USA</td>\n",
       "      <td>FL</td>\n",
       "      <td>Tampa</td>\n",
       "      <td>Tampa</td>\n",
       "      <td>1050000.0</td>\n",
       "      <td>3</td>\n",
       "      <td>01-09-2012</td>\n",
       "      <td>09-09-2013</td>\n",
       "      <td>6</td>\n",
       "      <td>373</td>\n",
       "      <td>15584</td>\n",
       "      <td>15957</td>\n",
       "      <td>0</td>\n",
       "    </tr>\n",
       "    <tr>\n",
       "      <td>18</td>\n",
       "      <td>18</td>\n",
       "      <td>Ardext Technologies</td>\n",
       "      <td>NaN</td>\n",
       "      <td>closed</td>\n",
       "      <td>Electronics|Software|Testing</td>\n",
       "      <td>NaN</td>\n",
       "      <td>NaN</td>\n",
       "      <td>NaN</td>\n",
       "      <td>NaN</td>\n",
       "      <td>NaN</td>\n",
       "      <td>1938000.0</td>\n",
       "      <td>5</td>\n",
       "      <td>22-09-2000</td>\n",
       "      <td>17-11-2003</td>\n",
       "      <td>5</td>\n",
       "      <td>1151</td>\n",
       "      <td>11222</td>\n",
       "      <td>12373</td>\n",
       "      <td>0</td>\n",
       "    </tr>\n",
       "  </tbody>\n",
       "</table>\n",
       "</div>"
      ],
      "text/plain": [
       "    ID            comp_name                       website op_status  \\\n",
       "0    0          Nanotecture  http://www.nanotecture.co.uk    closed   \n",
       "3    3              Mercora            http://mercora.com    closed   \n",
       "7    7              Taggstr        http://www.taggstr.com    closed   \n",
       "16  16    The Daily Hundred       http://dailyhundred.com    closed   \n",
       "18  18  Ardext Technologies                           NaN    closed   \n",
       "\n",
       "                                               domain  founded_on  \\\n",
       "0                                      Nanotechnology         NaN   \n",
       "3                                         Curated Web         NaN   \n",
       "7   iPhone|Location Based Services|Messaging|Mobil...  01-07-2009   \n",
       "16  Advertising|Gamification|Mobile|Photography|Sa...  01-04-2012   \n",
       "18                       Electronics|Software|Testing         NaN   \n",
       "\n",
       "   hq_country_code hq_state_code    hq_region      hq_city  total_funding_usd  \\\n",
       "0              GBR            M4       London  Southampton          6820000.0   \n",
       "3              USA            CA  SF Bay Area    Sunnyvale          5000000.0   \n",
       "7              USA            CA  SF Bay Area     San Jose            50000.0   \n",
       "16             USA            FL        Tampa        Tampa          1050000.0   \n",
       "18             NaN           NaN          NaN          NaN          1938000.0   \n",
       "\n",
       "    funding_rounds first_funding_date last_funding_date  num_investors  \\\n",
       "0                1         04-05-2005        04-05-2005              4   \n",
       "3                1         01-01-2005        01-01-2005              1   \n",
       "7                1         07-04-2010        07-04-2010              1   \n",
       "16               3         01-09-2012        09-09-2013              6   \n",
       "18               5         22-09-2000        17-11-2003              5   \n",
       "\n",
       "    funding_duration  first_funding_utc  last_funding_utc  \\\n",
       "0                  0              12907             12907   \n",
       "3                  0              12784             12784   \n",
       "7                  0              14706             14706   \n",
       "16               373              15584             15957   \n",
       "18              1151              11222             12373   \n",
       "\n",
       "    successful_investment  \n",
       "0                       0  \n",
       "3                       0  \n",
       "7                       0  \n",
       "16                      0  \n",
       "18                      0  "
      ]
     },
     "execution_count": 14,
     "metadata": {},
     "output_type": "execute_result"
    }
   ],
   "source": [
    "home_data[home_data['op_status']=='closed'].head()       #No successful investment\n",
    "  "
   ]
  },
  {
   "cell_type": "code",
   "execution_count": 15,
   "metadata": {},
   "outputs": [
    {
     "data": {
      "text/html": [
       "<div>\n",
       "<style scoped>\n",
       "    .dataframe tbody tr th:only-of-type {\n",
       "        vertical-align: middle;\n",
       "    }\n",
       "\n",
       "    .dataframe tbody tr th {\n",
       "        vertical-align: top;\n",
       "    }\n",
       "\n",
       "    .dataframe thead th {\n",
       "        text-align: right;\n",
       "    }\n",
       "</style>\n",
       "<table border=\"1\" class=\"dataframe\">\n",
       "  <thead>\n",
       "    <tr style=\"text-align: right;\">\n",
       "      <th></th>\n",
       "      <th>ID</th>\n",
       "      <th>comp_name</th>\n",
       "      <th>website</th>\n",
       "      <th>op_status</th>\n",
       "      <th>domain</th>\n",
       "      <th>founded_on</th>\n",
       "      <th>hq_country_code</th>\n",
       "      <th>hq_state_code</th>\n",
       "      <th>hq_region</th>\n",
       "      <th>hq_city</th>\n",
       "      <th>total_funding_usd</th>\n",
       "      <th>funding_rounds</th>\n",
       "      <th>first_funding_date</th>\n",
       "      <th>last_funding_date</th>\n",
       "      <th>num_investors</th>\n",
       "      <th>funding_duration</th>\n",
       "      <th>first_funding_utc</th>\n",
       "      <th>last_funding_utc</th>\n",
       "      <th>successful_investment</th>\n",
       "    </tr>\n",
       "  </thead>\n",
       "  <tbody>\n",
       "    <tr>\n",
       "      <td>1</td>\n",
       "      <td>1</td>\n",
       "      <td>Sybari</td>\n",
       "      <td>http://www.sybari.com</td>\n",
       "      <td>acquired</td>\n",
       "      <td>Email|Security|Software</td>\n",
       "      <td>01-01-1995</td>\n",
       "      <td>USA</td>\n",
       "      <td>NY</td>\n",
       "      <td>Long Island</td>\n",
       "      <td>East Northport</td>\n",
       "      <td>NaN</td>\n",
       "      <td>1</td>\n",
       "      <td>30-03-2001</td>\n",
       "      <td>30-03-2001</td>\n",
       "      <td>1</td>\n",
       "      <td>0</td>\n",
       "      <td>11411</td>\n",
       "      <td>11411</td>\n",
       "      <td>1</td>\n",
       "    </tr>\n",
       "    <tr>\n",
       "      <td>12</td>\n",
       "      <td>12</td>\n",
       "      <td>Open Harbor</td>\n",
       "      <td>https://www.openharbor.com</td>\n",
       "      <td>acquired</td>\n",
       "      <td>Marketing Automation|Real Time|Trading</td>\n",
       "      <td>01-01-1999</td>\n",
       "      <td>USA</td>\n",
       "      <td>CA</td>\n",
       "      <td>SF Bay Area</td>\n",
       "      <td>San Carlos</td>\n",
       "      <td>1.000000e+07</td>\n",
       "      <td>1</td>\n",
       "      <td>19-11-2001</td>\n",
       "      <td>19-11-2001</td>\n",
       "      <td>4</td>\n",
       "      <td>0</td>\n",
       "      <td>11645</td>\n",
       "      <td>11645</td>\n",
       "      <td>1</td>\n",
       "    </tr>\n",
       "    <tr>\n",
       "      <td>14</td>\n",
       "      <td>14</td>\n",
       "      <td>PopCap Games</td>\n",
       "      <td>http://www.popcap.com</td>\n",
       "      <td>acquired</td>\n",
       "      <td>Games</td>\n",
       "      <td>01-01-2000</td>\n",
       "      <td>USA</td>\n",
       "      <td>WA</td>\n",
       "      <td>Seattle</td>\n",
       "      <td>Seattle</td>\n",
       "      <td>2.986646e+07</td>\n",
       "      <td>2</td>\n",
       "      <td>25-05-2009</td>\n",
       "      <td>06-10-2009</td>\n",
       "      <td>3</td>\n",
       "      <td>134</td>\n",
       "      <td>14389</td>\n",
       "      <td>14523</td>\n",
       "      <td>1</td>\n",
       "    </tr>\n",
       "    <tr>\n",
       "      <td>21</td>\n",
       "      <td>21</td>\n",
       "      <td>Clearwire</td>\n",
       "      <td>http://www.clearwire.com</td>\n",
       "      <td>acquired</td>\n",
       "      <td>Internet|Mobile</td>\n",
       "      <td>01-10-2003</td>\n",
       "      <td>USA</td>\n",
       "      <td>WA</td>\n",
       "      <td>Seattle</td>\n",
       "      <td>Kirkland</td>\n",
       "      <td>5.820000e+09</td>\n",
       "      <td>6</td>\n",
       "      <td>11-12-2001</td>\n",
       "      <td>27-02-2013</td>\n",
       "      <td>21</td>\n",
       "      <td>4096</td>\n",
       "      <td>11667</td>\n",
       "      <td>15763</td>\n",
       "      <td>1</td>\n",
       "    </tr>\n",
       "    <tr>\n",
       "      <td>28</td>\n",
       "      <td>28</td>\n",
       "      <td>Silverback Systems</td>\n",
       "      <td>NaN</td>\n",
       "      <td>acquired</td>\n",
       "      <td>Web Hosting</td>\n",
       "      <td>01-01-2000</td>\n",
       "      <td>USA</td>\n",
       "      <td>CA</td>\n",
       "      <td>SF Bay Area</td>\n",
       "      <td>Campbell</td>\n",
       "      <td>4.600000e+07</td>\n",
       "      <td>3</td>\n",
       "      <td>24-09-2001</td>\n",
       "      <td>25-04-2006</td>\n",
       "      <td>11</td>\n",
       "      <td>1674</td>\n",
       "      <td>11589</td>\n",
       "      <td>13263</td>\n",
       "      <td>1</td>\n",
       "    </tr>\n",
       "  </tbody>\n",
       "</table>\n",
       "</div>"
      ],
      "text/plain": [
       "    ID           comp_name                     website op_status  \\\n",
       "1    1              Sybari       http://www.sybari.com  acquired   \n",
       "12  12         Open Harbor  https://www.openharbor.com  acquired   \n",
       "14  14        PopCap Games       http://www.popcap.com  acquired   \n",
       "21  21           Clearwire    http://www.clearwire.com  acquired   \n",
       "28  28  Silverback Systems                         NaN  acquired   \n",
       "\n",
       "                                    domain  founded_on hq_country_code  \\\n",
       "1                  Email|Security|Software  01-01-1995             USA   \n",
       "12  Marketing Automation|Real Time|Trading  01-01-1999             USA   \n",
       "14                                   Games  01-01-2000             USA   \n",
       "21                         Internet|Mobile  01-10-2003             USA   \n",
       "28                             Web Hosting  01-01-2000             USA   \n",
       "\n",
       "   hq_state_code    hq_region         hq_city  total_funding_usd  \\\n",
       "1             NY  Long Island  East Northport                NaN   \n",
       "12            CA  SF Bay Area      San Carlos       1.000000e+07   \n",
       "14            WA      Seattle         Seattle       2.986646e+07   \n",
       "21            WA      Seattle        Kirkland       5.820000e+09   \n",
       "28            CA  SF Bay Area        Campbell       4.600000e+07   \n",
       "\n",
       "    funding_rounds first_funding_date last_funding_date  num_investors  \\\n",
       "1                1         30-03-2001        30-03-2001              1   \n",
       "12               1         19-11-2001        19-11-2001              4   \n",
       "14               2         25-05-2009        06-10-2009              3   \n",
       "21               6         11-12-2001        27-02-2013             21   \n",
       "28               3         24-09-2001        25-04-2006             11   \n",
       "\n",
       "    funding_duration  first_funding_utc  last_funding_utc  \\\n",
       "1                  0              11411             11411   \n",
       "12                 0              11645             11645   \n",
       "14               134              14389             14523   \n",
       "21              4096              11667             15763   \n",
       "28              1674              11589             13263   \n",
       "\n",
       "    successful_investment  \n",
       "1                       1  \n",
       "12                      1  \n",
       "14                      1  \n",
       "21                      1  \n",
       "28                      1  "
      ]
     },
     "execution_count": 15,
     "metadata": {},
     "output_type": "execute_result"
    }
   ],
   "source": [
    "home_data[home_data['op_status']=='acquired'].head()     #Successful investment is done\n"
   ]
  },
  {
   "cell_type": "code",
   "execution_count": 16,
   "metadata": {},
   "outputs": [
    {
     "data": {
      "text/html": [
       "<div>\n",
       "<style scoped>\n",
       "    .dataframe tbody tr th:only-of-type {\n",
       "        vertical-align: middle;\n",
       "    }\n",
       "\n",
       "    .dataframe tbody tr th {\n",
       "        vertical-align: top;\n",
       "    }\n",
       "\n",
       "    .dataframe thead th {\n",
       "        text-align: right;\n",
       "    }\n",
       "</style>\n",
       "<table border=\"1\" class=\"dataframe\">\n",
       "  <thead>\n",
       "    <tr style=\"text-align: right;\">\n",
       "      <th></th>\n",
       "      <th>ID</th>\n",
       "      <th>comp_name</th>\n",
       "      <th>website</th>\n",
       "      <th>op_status</th>\n",
       "      <th>domain</th>\n",
       "      <th>founded_on</th>\n",
       "      <th>hq_country_code</th>\n",
       "      <th>hq_state_code</th>\n",
       "      <th>hq_region</th>\n",
       "      <th>hq_city</th>\n",
       "      <th>total_funding_usd</th>\n",
       "      <th>funding_rounds</th>\n",
       "      <th>first_funding_date</th>\n",
       "      <th>last_funding_date</th>\n",
       "      <th>num_investors</th>\n",
       "      <th>funding_duration</th>\n",
       "      <th>first_funding_utc</th>\n",
       "      <th>last_funding_utc</th>\n",
       "      <th>successful_investment</th>\n",
       "    </tr>\n",
       "  </thead>\n",
       "  <tbody>\n",
       "    <tr>\n",
       "      <td>5</td>\n",
       "      <td>5</td>\n",
       "      <td>Amazon</td>\n",
       "      <td>http://amazon.com</td>\n",
       "      <td>ipo</td>\n",
       "      <td>Consumer Goods|Crowdsourcing|Delivery|E-Commer...</td>\n",
       "      <td>05-07-1994</td>\n",
       "      <td>USA</td>\n",
       "      <td>WA</td>\n",
       "      <td>Seattle</td>\n",
       "      <td>Seattle</td>\n",
       "      <td>8000000.0</td>\n",
       "      <td>1</td>\n",
       "      <td>01-07-1995</td>\n",
       "      <td>01-07-1995</td>\n",
       "      <td>1</td>\n",
       "      <td>0</td>\n",
       "      <td>9312</td>\n",
       "      <td>9312</td>\n",
       "      <td>1</td>\n",
       "    </tr>\n",
       "    <tr>\n",
       "      <td>29</td>\n",
       "      <td>29</td>\n",
       "      <td>Seres Health</td>\n",
       "      <td>http://sereshealth.com</td>\n",
       "      <td>ipo</td>\n",
       "      <td>Biotechnology</td>\n",
       "      <td>01-01-2010</td>\n",
       "      <td>USA</td>\n",
       "      <td>MA</td>\n",
       "      <td>Boston</td>\n",
       "      <td>Cambridge</td>\n",
       "      <td>113000000.0</td>\n",
       "      <td>4</td>\n",
       "      <td>27-11-2012</td>\n",
       "      <td>06-01-2015</td>\n",
       "      <td>8</td>\n",
       "      <td>770</td>\n",
       "      <td>15671</td>\n",
       "      <td>16441</td>\n",
       "      <td>1</td>\n",
       "    </tr>\n",
       "    <tr>\n",
       "      <td>204</td>\n",
       "      <td>204</td>\n",
       "      <td>Orad</td>\n",
       "      <td>http://www.orad.cc</td>\n",
       "      <td>ipo</td>\n",
       "      <td>Security</td>\n",
       "      <td>NaN</td>\n",
       "      <td>ISR</td>\n",
       "      <td>5</td>\n",
       "      <td>Tel Aviv</td>\n",
       "      <td>Holon</td>\n",
       "      <td>28765834.0</td>\n",
       "      <td>3</td>\n",
       "      <td>01-01-1996</td>\n",
       "      <td>01-01-2014</td>\n",
       "      <td>3</td>\n",
       "      <td>6575</td>\n",
       "      <td>9496</td>\n",
       "      <td>16071</td>\n",
       "      <td>1</td>\n",
       "    </tr>\n",
       "    <tr>\n",
       "      <td>348</td>\n",
       "      <td>348</td>\n",
       "      <td>Array BioPharma</td>\n",
       "      <td>http://arraybiopharma.com</td>\n",
       "      <td>ipo</td>\n",
       "      <td>Biotechnology</td>\n",
       "      <td>01-01-1998</td>\n",
       "      <td>USA</td>\n",
       "      <td>CO</td>\n",
       "      <td>Denver</td>\n",
       "      <td>Boulder</td>\n",
       "      <td>85000000.0</td>\n",
       "      <td>1</td>\n",
       "      <td>02-03-2015</td>\n",
       "      <td>02-03-2015</td>\n",
       "      <td>1</td>\n",
       "      <td>0</td>\n",
       "      <td>16496</td>\n",
       "      <td>16496</td>\n",
       "      <td>1</td>\n",
       "    </tr>\n",
       "    <tr>\n",
       "      <td>452</td>\n",
       "      <td>452</td>\n",
       "      <td>Qualys</td>\n",
       "      <td>https://www.qualys.com</td>\n",
       "      <td>ipo</td>\n",
       "      <td>Security|Software</td>\n",
       "      <td>01-01-1999</td>\n",
       "      <td>USA</td>\n",
       "      <td>CA</td>\n",
       "      <td>SF Bay Area</td>\n",
       "      <td>Redwood City</td>\n",
       "      <td>NaN</td>\n",
       "      <td>1</td>\n",
       "      <td>12-11-2003</td>\n",
       "      <td>12-11-2003</td>\n",
       "      <td>1</td>\n",
       "      <td>0</td>\n",
       "      <td>12368</td>\n",
       "      <td>12368</td>\n",
       "      <td>1</td>\n",
       "    </tr>\n",
       "  </tbody>\n",
       "</table>\n",
       "</div>"
      ],
      "text/plain": [
       "      ID        comp_name                    website op_status  \\\n",
       "5      5           Amazon          http://amazon.com       ipo   \n",
       "29    29     Seres Health     http://sereshealth.com       ipo   \n",
       "204  204             Orad         http://www.orad.cc       ipo   \n",
       "348  348  Array BioPharma  http://arraybiopharma.com       ipo   \n",
       "452  452           Qualys     https://www.qualys.com       ipo   \n",
       "\n",
       "                                                domain  founded_on  \\\n",
       "5    Consumer Goods|Crowdsourcing|Delivery|E-Commer...  05-07-1994   \n",
       "29                                       Biotechnology  01-01-2010   \n",
       "204                                           Security         NaN   \n",
       "348                                      Biotechnology  01-01-1998   \n",
       "452                                  Security|Software  01-01-1999   \n",
       "\n",
       "    hq_country_code hq_state_code    hq_region       hq_city  \\\n",
       "5               USA            WA      Seattle       Seattle   \n",
       "29              USA            MA       Boston     Cambridge   \n",
       "204             ISR             5     Tel Aviv         Holon   \n",
       "348             USA            CO       Denver       Boulder   \n",
       "452             USA            CA  SF Bay Area  Redwood City   \n",
       "\n",
       "     total_funding_usd  funding_rounds first_funding_date last_funding_date  \\\n",
       "5            8000000.0               1         01-07-1995        01-07-1995   \n",
       "29         113000000.0               4         27-11-2012        06-01-2015   \n",
       "204         28765834.0               3         01-01-1996        01-01-2014   \n",
       "348         85000000.0               1         02-03-2015        02-03-2015   \n",
       "452                NaN               1         12-11-2003        12-11-2003   \n",
       "\n",
       "     num_investors  funding_duration  first_funding_utc  last_funding_utc  \\\n",
       "5                1                 0               9312              9312   \n",
       "29               8               770              15671             16441   \n",
       "204              3              6575               9496             16071   \n",
       "348              1                 0              16496             16496   \n",
       "452              1                 0              12368             12368   \n",
       "\n",
       "     successful_investment  \n",
       "5                        1  \n",
       "29                       1  \n",
       "204                      1  \n",
       "348                      1  \n",
       "452                      1  "
      ]
     },
     "execution_count": 16,
     "metadata": {},
     "output_type": "execute_result"
    }
   ],
   "source": [
    "home_data[home_data['op_status']=='ipo'].head() "
   ]
  },
  {
   "cell_type": "code",
   "execution_count": 17,
   "metadata": {},
   "outputs": [
    {
     "data": {
      "text/plain": [
       "<matplotlib.axes._subplots.AxesSubplot at 0x7fb56d258e48>"
      ]
     },
     "execution_count": 17,
     "metadata": {},
     "output_type": "execute_result"
    },
    {
     "data": {
      "image/png": "[encoded data removed]",
      "text/plain": [
       "<Figure size 720x720 with 1 Axes>"
      ]
     },
     "metadata": {},
     "output_type": "display_data"
    }
   ],
   "source": [
    "status=pd.crosstab(home_data['successful_investment'],home_data['op_status']) \n",
    "status.div(status.sum(1).astype(float), axis=0).plot(kind=\"bar\", stacked=True, figsize=(10,10))"
   ]
  },
  {
   "cell_type": "markdown",
   "metadata": {},
   "source": [
    "### Replacing op_status by their classification"
   ]
  },
  {
   "cell_type": "code",
   "execution_count": 18,
   "metadata": {},
   "outputs": [],
   "source": [
    "home_data.op_status[home_data.op_status == 'operating'] = 0           #As in the train file the op_status data type is string it \n",
    "home_data.op_status[home_data.op_status == 'closed'] = 0              #would be better if we convert them into int dtype.\n",
    "home_data.op_status[home_data.op_status == 'acquired'] = 1          #These commands convert them to their respectively given integres\n",
    "home_data.op_status[home_data.op_status == 'ipo'] = 1"
   ]
  },
  {
   "cell_type": "code",
   "execution_count": 19,
   "metadata": {},
   "outputs": [],
   "source": [
    "test_data.op_status[test_data.op_status == 'operating'] = 0\n",
    "test_data.op_status[test_data.op_status == 'closed'] = 0            #The same above step is being done for the test file. \n",
    "test_data.op_status[test_data.op_status == 'acquired'] = 1\n",
    "test_data.op_status[test_data.op_status == 'ipo'] = 1"
   ]
  },
  {
   "cell_type": "markdown",
   "metadata": {},
   "source": [
    "# Graphs"
   ]
  },
  {
   "cell_type": "code",
   "execution_count": 20,
   "metadata": {},
   "outputs": [
    {
     "data": {
      "text/plain": [
       "<matplotlib.axes._subplots.AxesSubplot at 0x7fb56d1e2860>"
      ]
     },
     "execution_count": 20,
     "metadata": {},
     "output_type": "execute_result"
    },
    {
     "data": {
      "image/png": "[encoded data removed]",
      "text/plain": [
       "<Figure size 720x720 with 1 Axes>"
      ]
     },
     "metadata": {},
     "output_type": "display_data"
    }
   ],
   "source": [
    "status=pd.crosstab(home_data['successful_investment'],home_data['op_status']) \n",
    "status.div(status.sum(1).astype(float), axis=0).plot(kind=\"bar\", stacked=True, figsize=(10,10))"
   ]
  },
  {
   "cell_type": "markdown",
   "metadata": {},
   "source": [
    "## Training our model"
   ]
  },
  {
   "cell_type": "code",
   "execution_count": 21,
   "metadata": {},
   "outputs": [],
   "source": [
    "y=home_data.successful_investment\n",
    "home_features=[ 'op_status']\n",
    "X=home_data[home_features]\n",
    "test_X = test_data[home_features]           \n",
    "train_X = home_data[home_features]"
   ]
  },
  {
   "cell_type": "markdown",
   "metadata": {},
   "source": [
    "## Using DecisionTreeClassifier and calculating MAE"
   ]
  },
  {
   "cell_type": "code",
   "execution_count": 22,
   "metadata": {},
   "outputs": [],
   "source": [
    "# home_model=DecisionTreeClassifier(random_state=1)\n",
    "# home_model.fit(X,y)\n",
    "# predictions=home_model.predict(test_X)"
   ]
  },
  {
   "cell_type": "code",
   "execution_count": 23,
   "metadata": {},
   "outputs": [
    {
     "name": "stdout",
     "output_type": "stream",
     "text": [
      "MAE : 0\n"
     ]
    }
   ],
   "source": [
    "\n",
    "train_X, val_X, train_y, val_y = train_test_split(X, y,test_size=0.33,random_state=1)\n",
    "home_model=DecisionTreeClassifier(random_state=1)\n",
    "home_model.fit(train_X, train_y)\n",
    "val_predictions = home_model.predict(val_X)                 #These commands are used to calculate the MEAN ABSOLUTE ERROR\n",
    "val_mae = mean_absolute_error(val_predictions, val_y)\n",
    "predictions=home_model.predict(test_X)\n",
    "print(\"MAE : {:,.0f}\".format(val_mae))"
   ]
  },
  {
   "cell_type": "code",
   "execution_count": 24,
   "metadata": {},
   "outputs": [
    {
     "data": {
      "text/plain": [
       "[Text(167.4, 163.07999999999998, 'X[0] <= 0.5\\ngini = 0.229\\nsamples = 26942\\nvalue = [23381, 3561]'),\n",
       " Text(83.7, 54.360000000000014, 'gini = 0.0\\nsamples = 23381\\nvalue = [23381, 0]'),\n",
       " Text(251.10000000000002, 54.360000000000014, 'gini = 0.0\\nsamples = 3561\\nvalue = [0, 3561]')]"
      ]
     },
     "execution_count": 24,
     "metadata": {},
     "output_type": "execute_result"
    },
    {
     "data": {
      "image/png": "[encoded data removed]",
      "text/plain": [
       "<Figure size 432x288 with 1 Axes>"
      ]
     },
     "metadata": {},
     "output_type": "display_data"
    }
   ],
   "source": [
    "from sklearn.tree import plot_tree\n",
    "plot_tree(home_model)"
   ]
  },
  {
   "cell_type": "code",
   "execution_count": 25,
   "metadata": {},
   "outputs": [
    {
     "data": {
      "image/png": "[encoded data removed]",
      "text/plain": [
       "<Figure size 576x576 with 2 Axes>"
      ]
     },
     "metadata": {},
     "output_type": "display_data"
    }
   ],
   "source": [
    "from sklearn.svm import SVC\n",
    "from sklearn.metrics import accuracy_score, confusion_matrix, precision_recall_fscore_support\n",
    "\n",
    "clf = SVC(kernel = 'linear').fit(train_X,train_y)\n",
    "clf.predict(train_X)\n",
    "y_pred = clf.predict(val_X)\n",
    "\n",
    "# Creates a confusion matrix\n",
    "cm = confusion_matrix(val_y, y_pred) \n",
    "\n",
    "# Transform to df for easier plotting\n",
    "cm_df = pd.DataFrame(cm,\n",
    "                     index = ['Funding','Non_Funding'], \n",
    "                     columns = ['Funding','Non_Funding'])\n",
    "\n",
    "plt.figure(figsize=(8,8))\n",
    "sns.heatmap(cm_df, annot=True)\n",
    "plt.title('\\nAccuracy:{0:.3f}'.format(accuracy_score(val_y, y_pred)))\n",
    "plt.ylabel('True label')\n",
    "plt.xlabel('Predicted label')\n",
    "plt.show()"
   ]
  },
  {
   "cell_type": "code",
   "execution_count": 26,
   "metadata": {},
   "outputs": [
    {
     "data": {
      "text/plain": [
       "array([[11519,     0],\n",
       "       [    0,  1752]])"
      ]
     },
     "execution_count": 26,
     "metadata": {},
     "output_type": "execute_result"
    }
   ],
   "source": [
    "from sklearn import metrics\n",
    "metrics.confusion_matrix(val_y, y_pred)"
   ]
  },
  {
   "cell_type": "code",
   "execution_count": 27,
   "metadata": {},
   "outputs": [
    {
     "data": {
      "text/plain": [
       "array([[11519,     0],\n",
       "       [    0,  1752]])"
      ]
     },
     "execution_count": 27,
     "metadata": {},
     "output_type": "execute_result"
    }
   ],
   "source": [
    "metrics.confusion_matrix(y_pred, val_y)\n"
   ]
  },
  {
   "cell_type": "markdown",
   "metadata": {},
   "source": [
    "### Predicting predictions"
   ]
  },
  {
   "cell_type": "code",
   "execution_count": 28,
   "metadata": {},
   "outputs": [
    {
     "name": "stdout",
     "output_type": "stream",
     "text": [
      "[0 0 1 ... 0 0 0]\n"
     ]
    }
   ],
   "source": [
    "print(predictions)"
   ]
  },
  {
   "cell_type": "markdown",
   "metadata": {},
   "source": [
    "## Creating Submission File"
   ]
  },
  {
   "cell_type": "code",
   "execution_count": 29,
   "metadata": {},
   "outputs": [],
   "source": [
    "# submission = pd.DataFrame({\"ID\": test_data[\"ID\"],\"successful_investment\": predictions})\n",
    "# submission.to_csv('submission_final.csv', index=False)   "
   ]
  }
 ],
 "metadata": {
  "kernelspec": {
   "display_name": "Python 3",
   "language": "python",
   "name": "python3"
  },
  "language_info": {
   "codemirror_mode": {
    "name": "ipython",
    "version": 3
   },
   "file_extension": ".py",
   "mimetype": "text/x-python",
   "name": "python",
   "nbconvert_exporter": "python",
   "pygments_lexer": "ipython3",
   "version": "3.6.8"
  }
 },
 "nbformat": 4,
 "nbformat_minor": 2
}
